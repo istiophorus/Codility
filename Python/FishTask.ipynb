{
 "cells": [
  {
   "cell_type": "code",
   "execution_count": 14,
   "metadata": {},
   "outputs": [],
   "source": [
    "# https://app.codility.com/programmers/lessons/7-stacks_and_queues/fish/\n",
    "# https://app.codility.com/demo/results/trainingTAQU2M-AME/\n",
    "\n",
    "def solution(arrA, arrB):\n",
    "    if arrA == None:\n",
    "        raise ValueError()\n",
    "        \n",
    "    if arrB == None:\n",
    "        raise ValueError()        \n",
    "        \n",
    "    if len(arrA) != len(arrB):\n",
    "        raise ValueError()\n",
    "        \n",
    "    ab = zip(arrA, arrB)\n",
    "    \n",
    "    alive = 0\n",
    "    \n",
    "    downstream = []\n",
    "    upstream = []\n",
    "    \n",
    "    for currentFish,di in ab:\n",
    "        if di == 0: # upstream\n",
    "            if len(downstream) == 0:\n",
    "                alive = alive + 1\n",
    "            else:\n",
    "                while len(downstream) > 0:\n",
    "                    last = downstream[-1]\n",
    "                    if last < currentFish:\n",
    "                        downstream.pop()\n",
    "                    elif last > currentFish:\n",
    "                        break\n",
    "                        \n",
    "                if len(downstream) <= 0:\n",
    "                    alive = alive + 1\n",
    "        else: # di == 1\n",
    "            downstream.append(currentFish)\n",
    "            \n",
    "    return alive + len(downstream)\n",
    "\n",
    "            \n",
    "        \n",
    "                        \n",
    "            \n",
    "        \n",
    "    \n",
    "    "
   ]
  },
  {
   "cell_type": "code",
   "execution_count": 15,
   "metadata": {},
   "outputs": [
    {
     "data": {
      "text/plain": [
       "2"
      ]
     },
     "execution_count": 15,
     "metadata": {},
     "output_type": "execute_result"
    }
   ],
   "source": [
    "solution([4,3,2,1,5], [0,1,0,0,0])"
   ]
  },
  {
   "cell_type": "code",
   "execution_count": 16,
   "metadata": {},
   "outputs": [
    {
     "data": {
      "text/plain": [
       "4"
      ]
     },
     "execution_count": 16,
     "metadata": {},
     "output_type": "execute_result"
    }
   ],
   "source": [
    "solution([4,3,5,1,2], [0,1,0,0,0])"
   ]
  },
  {
   "cell_type": "code",
   "execution_count": null,
   "metadata": {},
   "outputs": [],
   "source": []
  },
  {
   "cell_type": "code",
   "execution_count": null,
   "metadata": {
    "collapsed": true
   },
   "outputs": [],
   "source": []
  }
 ],
 "metadata": {
  "kernelspec": {
   "display_name": "Python 3",
   "language": "python",
   "name": "python3"
  },
  "language_info": {
   "codemirror_mode": {
    "name": "ipython",
    "version": 3
   },
   "file_extension": ".py",
   "mimetype": "text/x-python",
   "name": "python",
   "nbconvert_exporter": "python",
   "pygments_lexer": "ipython3",
   "version": "3.6.2"
  }
 },
 "nbformat": 4,
 "nbformat_minor": 2
}
