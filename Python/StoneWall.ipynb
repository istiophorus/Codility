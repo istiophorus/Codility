{
 "cells": [
  {
   "cell_type": "code",
   "execution_count": 29,
   "metadata": {},
   "outputs": [],
   "source": [
    "# https://app.codility.com/programmers/lessons/7-stacks_and_queues/stone_wall/\n",
    "# https://app.codility.com/demo/results/trainingQBVARR-MTN/\n",
    "\n",
    "def StoneWall(wall):\n",
    "    if wall == None:\n",
    "        raise valueError()\n",
    "        \n",
    "    if len(wall) <= 1:\n",
    "        return len(wall)\n",
    "    \n",
    "    blocks = []\n",
    "    blockCount = 0\n",
    "    \n",
    "    for ix,h in enumerate(wall):\n",
    "        while len(blocks) > 0:\n",
    "            last = blocks[-1]\n",
    "            if (last > h):\n",
    "                blocks.pop()\n",
    "            elif last == h:\n",
    "                break\n",
    "            else:\n",
    "                blocks.append(h)\n",
    "                blockCount += 1\n",
    "                break\n",
    "        \n",
    "        if len(blocks) <= 0:\n",
    "            blockCount += 1\n",
    "            blocks.append(h)\n",
    "            \n",
    "    return blockCount\n",
    "    \n"
   ]
  },
  {
   "cell_type": "code",
   "execution_count": 30,
   "metadata": {},
   "outputs": [
    {
     "data": {
      "text/plain": [
       "7"
      ]
     },
     "execution_count": 30,
     "metadata": {},
     "output_type": "execute_result"
    }
   ],
   "source": [
    "StoneWall([8,8,5,7,9,8,7,4,8])"
   ]
  },
  {
   "cell_type": "code",
   "execution_count": 31,
   "metadata": {},
   "outputs": [
    {
     "data": {
      "text/plain": [
       "0"
      ]
     },
     "execution_count": 31,
     "metadata": {},
     "output_type": "execute_result"
    }
   ],
   "source": [
    "StoneWall([])"
   ]
  },
  {
   "cell_type": "code",
   "execution_count": 32,
   "metadata": {},
   "outputs": [
    {
     "data": {
      "text/plain": [
       "1"
      ]
     },
     "execution_count": 32,
     "metadata": {},
     "output_type": "execute_result"
    }
   ],
   "source": [
    "StoneWall([2])"
   ]
  },
  {
   "cell_type": "code",
   "execution_count": 35,
   "metadata": {},
   "outputs": [
    {
     "data": {
      "text/plain": [
       "3"
      ]
     },
     "execution_count": 35,
     "metadata": {},
     "output_type": "execute_result"
    }
   ],
   "source": [
    "StoneWall([1,2,3,3,2,1])"
   ]
  },
  {
   "cell_type": "code",
   "execution_count": null,
   "metadata": {
    "collapsed": true
   },
   "outputs": [],
   "source": []
  }
 ],
 "metadata": {
  "kernelspec": {
   "display_name": "Python 3",
   "language": "python",
   "name": "python3"
  },
  "language_info": {
   "codemirror_mode": {
    "name": "ipython",
    "version": 3
   },
   "file_extension": ".py",
   "mimetype": "text/x-python",
   "name": "python",
   "nbconvert_exporter": "python",
   "pygments_lexer": "ipython3",
   "version": "3.6.2"
  }
 },
 "nbformat": 4,
 "nbformat_minor": 2
}
